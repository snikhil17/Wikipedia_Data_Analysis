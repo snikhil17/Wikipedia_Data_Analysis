{
  "nbformat": 4,
  "nbformat_minor": 0,
  "metadata": {
    "kernelspec": {
      "display_name": "Python 3",
      "language": "python",
      "name": "python3"
    },
    "language_info": {
      "codemirror_mode": {
        "name": "ipython",
        "version": 3
      },
      "file_extension": ".py",
      "mimetype": "text/x-python",
      "name": "python",
      "nbconvert_exporter": "python",
      "pygments_lexer": "ipython3",
      "version": "3.5.4"
    },
    "colab": {
      "name": "Wikipedia_Climate_Change_Analysis.ipynb",
      "provenance": []
    }
  },
  "cells": [
    {
      "cell_type": "code",
      "metadata": {
        "collapsed": true,
        "id": "V4pUgpYeWwhH"
      },
      "source": [
        "!pip install wikipedia"
      ],
      "execution_count": null,
      "outputs": []
    },
    {
      "cell_type": "code",
      "metadata": {
        "id": "YvubWCWJaL7D"
      },
      "source": [
        "import wikipedia as wk"
      ],
      "execution_count": 1,
      "outputs": []
    },
    {
      "cell_type": "code",
      "metadata": {
        "colab": {
          "base_uri": "https://localhost:8080/"
        },
        "id": "uyAyA7jzaW7L",
        "outputId": "4fd53865-d94f-4cc7-eb58-cb80bfc25a47"
      },
      "source": [
        "wk.search(\"climate change\")"
      ],
      "execution_count": 2,
      "outputs": [
        {
          "output_type": "execute_result",
          "data": {
            "text/plain": [
              "['Climate change',\n",
              " 'Climate change denial',\n",
              " 'United Nations Framework Convention on Climate Change',\n",
              " 'Effects of climate change',\n",
              " 'Intergovernmental Panel on Climate Change',\n",
              " 'Climate change mitigation',\n",
              " 'Climate variability and change',\n",
              " 'Paris Agreement',\n",
              " 'Climate change and agriculture',\n",
              " '2021 in climate change']"
            ]
          },
          "metadata": {},
          "execution_count": 2
        }
      ]
    },
    {
      "cell_type": "code",
      "metadata": {
        "colab": {
          "base_uri": "https://localhost:8080/",
          "height": 163
        },
        "id": "F_fkLEIBanqT",
        "outputId": "213bba82-b7fa-464d-eefd-64e5dd8e5bb5"
      },
      "source": [
        "wk.page('Climate change').summary"
      ],
      "execution_count": 3,
      "outputs": [
        {
          "output_type": "execute_result",
          "data": {
            "application/vnd.google.colaboratory.intrinsic+json": {
              "type": "string"
            },
            "text/plain": [
              "'Climate change includes both global warming driven by human-induced emissions of greenhouse gases and the resulting large-scale shifts in weather patterns. Though there have been previous periods of climatic change, since the mid-20th century humans have had an unprecedented impact on Earth\\'s climate system and caused change on a global scale.The largest driver of warming is the emission of gases that create a greenhouse effect, of which more than 90% are carbon dioxide (CO2) and methane. Fossil fuel burning (coal, oil, and natural gas) for energy consumption is the main source of these emissions, with additional contributions from agriculture, deforestation, and the chemical reactions in certain manufacturing processes. The human cause of climate change is not disputed by any scientific body of national or international standing. Temperature rise is amplified by climate feedbacks, such as loss of sunlight-reflecting snow and ice cover, increased water vapour (a greenhouse gas itself), and changes to land and ocean carbon sinks.\\nOn land, where temperatures have risen about twice as fast as the global average, deserts are expanding and heat waves and wildfires are becoming more common. Temperature rise is also amplified in the Arctic, where it has contributed to melting permafrost, glacial retreat and sea ice loss. Warmer temperatures are increasing rates of evaporation, causing more intense storms and weather extremes. Impacts on ecosystems include the relocation or extinction of many species as their environment changes, most immediately in coral reefs, mountains, and the Arctic. Climate change threatens people with food insecurity, water scarcity, flooding, infectious diseases, extreme heat, economic losses, and displacement. These human impacts have led the World Health Organization to call climate change the greatest threat to global health in the 21st century. Even if efforts to minimise future warming are successful, some effects will continue for centuries, including rising sea levels, rising ocean temperatures, and ocean acidification.\\n\\nMany of these impacts are already felt at the current level of warming, which is about 1.2 °C (2.2 °F). The Intergovernmental Panel on Climate Change (IPCC) has issued a series of reports that project significant increases in these impacts as warming continues to 1.5 °C (2.7 °F) and beyond. Additional warming also increases the risk of triggering critical thresholds called tipping points. Responding to these impacts involves both mitigation and adaptation. Mitigation – limiting climate change – consists of reducing greenhouse gas emissions and removing them from the atmosphere. Methods to achieve this include the development and deployment of low-carbon energy sources such as wind and solar, a phase-out of coal, enhanced energy efficiency, and forest preservation. Adaptation consists of adjusting to actual or expected climate, such as through improved coastline protection, better disaster management, and the development of more resistant crops. Adaptation alone cannot avert the risk of \"severe, widespread and irreversible\" impacts.Under the 2015 Paris Agreement, nations collectively agreed to keep warming \"well under 2.0 °C (3.6 °F)\" through mitigation efforts. However, with pledges made under the Agreement, global warming would still reach about 2.8 °C (5.0 °F) by the end of the century. Limiting warming to 1.5 °C (2.7 °F) would require halving emissions by 2030 and achieving near-zero emissions by 2050.'"
            ]
          },
          "metadata": {},
          "execution_count": 3
        }
      ]
    },
    {
      "cell_type": "code",
      "metadata": {
        "id": "TB-Ob_v8a8fC"
      },
      "source": [
        "!pip install Wikipedia-API"
      ],
      "execution_count": null,
      "outputs": []
    },
    {
      "cell_type": "code",
      "metadata": {
        "id": "YkufBY5JbKzo"
      },
      "source": [
        "import wikipediaapi as wkapi"
      ],
      "execution_count": 5,
      "outputs": []
    },
    {
      "cell_type": "code",
      "metadata": {
        "id": "65ikOXiPbO8v"
      },
      "source": [
        "wiki_climate = wkapi.Wikipedia(\n",
        "        language='en',\n",
        "        extract_format=wkapi.ExtractFormat.WIKI\n",
        ")"
      ],
      "execution_count": 6,
      "outputs": []
    },
    {
      "cell_type": "code",
      "metadata": {
        "id": "NmJ6s1HfbeJT"
      },
      "source": [
        "# wiki_climate.page('Climate change').text"
      ],
      "execution_count": null,
      "outputs": []
    },
    {
      "cell_type": "code",
      "metadata": {
        "id": "95aVLIKWczXY"
      },
      "source": [
        "my_file = {}\n",
        "for items in wk.search('climate change', results = 500):\n",
        "  my_file[items]=wiki_climate.page(items).summary"
      ],
      "execution_count": 15,
      "outputs": []
    },
    {
      "cell_type": "code",
      "metadata": {
        "id": "EP3THoymdn_a"
      },
      "source": [
        "import json"
      ],
      "execution_count": 9,
      "outputs": []
    },
    {
      "cell_type": "code",
      "metadata": {
        "id": "yaYXirwLgPLX"
      },
      "source": [
        "\"\"\"Saving the data in json file\"\"\"\n",
        "with open('sample.json', 'w') as f:\n",
        "  json.dump(my_file, f, indent = 4)"
      ],
      "execution_count": 18,
      "outputs": []
    },
    {
      "cell_type": "code",
      "metadata": {
        "id": "LMUedceUgd0r"
      },
      "source": [
        "\"\"\"Opening the json file\"\"\"\n",
        "f = open('sample.json')\n",
        "# json.load(f)"
      ],
      "execution_count": null,
      "outputs": []
    },
    {
      "cell_type": "markdown",
      "metadata": {
        "id": "IXuHGh0khq1q"
      },
      "source": [
        "# **Spacy Library**"
      ]
    },
    {
      "cell_type": "code",
      "metadata": {
        "collapsed": true,
        "id": "x4W6I0L-hGoD"
      },
      "source": [
        "\"\"\"Spacy Library\"\"\"\n",
        "import spacy\n",
        "# !python -m spacy download en_core_web_md\n",
        "# !python -m spacy download en\n",
        "nlp = spacy.load('en_core_web_md')"
      ],
      "execution_count": null,
      "outputs": []
    },
    {
      "cell_type": "code",
      "metadata": {
        "colab": {
          "base_uri": "https://localhost:8080/"
        },
        "id": "M9W4mA_2hyCp",
        "outputId": "752a4f33-7915-4b53-ee74-1bfa3f6c8b00"
      },
      "source": [
        "\"\"\"Trying Spacy functions on one sentence\"\"\"\n",
        "sentence = nlp(\"'This article documents notable events, research findings, effects, and responses related to global warming and climate change during the year 2021\")\n",
        "sentence"
      ],
      "execution_count": 14,
      "outputs": [
        {
          "output_type": "execute_result",
          "data": {
            "text/plain": [
              "'This article documents notable events, research findings, effects, and responses related to global warming and climate change during the year 2021"
            ]
          },
          "metadata": {},
          "execution_count": 14
        }
      ]
    },
    {
      "cell_type": "code",
      "metadata": {
        "colab": {
          "base_uri": "https://localhost:8080/"
        },
        "id": "tErfdLR9lNvN",
        "outputId": "d4dda6b6-f9f5-4397-87fc-e8933cafdbe7"
      },
      "source": [
        "\"\"\"Lemmatization\"\"\"\n",
        "[word.lemma_ for word in sentence]"
      ],
      "execution_count": 15,
      "outputs": [
        {
          "output_type": "execute_result",
          "data": {
            "text/plain": [
              "[\"'\",\n",
              " 'this',\n",
              " 'article',\n",
              " 'document',\n",
              " 'notable',\n",
              " 'event',\n",
              " ',',\n",
              " 'research',\n",
              " 'finding',\n",
              " ',',\n",
              " 'effect',\n",
              " ',',\n",
              " 'and',\n",
              " 'response',\n",
              " 'relate',\n",
              " 'to',\n",
              " 'global',\n",
              " 'warming',\n",
              " 'and',\n",
              " 'climate',\n",
              " 'change',\n",
              " 'during',\n",
              " 'the',\n",
              " 'year',\n",
              " '2021']"
            ]
          },
          "metadata": {},
          "execution_count": 15
        }
      ]
    },
    {
      "cell_type": "code",
      "metadata": {
        "colab": {
          "base_uri": "https://localhost:8080/"
        },
        "id": "A89f0hLslf51",
        "outputId": "80f47b68-5a9a-4aca-fd03-fd50145d2f71"
      },
      "source": [
        "\"\"\"Part of Speech (pos)\n",
        "Bae the words as Noun, Pronouns, verbs adj etc.\"\"\"\n",
        "[word.pos_ for word in sentence]"
      ],
      "execution_count": 18,
      "outputs": [
        {
          "output_type": "execute_result",
          "data": {
            "text/plain": [
              "['PUNCT',\n",
              " 'DET',\n",
              " 'NOUN',\n",
              " 'VERB',\n",
              " 'ADJ',\n",
              " 'NOUN',\n",
              " 'PUNCT',\n",
              " 'NOUN',\n",
              " 'NOUN',\n",
              " 'PUNCT',\n",
              " 'NOUN',\n",
              " 'PUNCT',\n",
              " 'CCONJ',\n",
              " 'NOUN',\n",
              " 'VERB',\n",
              " 'ADP',\n",
              " 'ADJ',\n",
              " 'NOUN',\n",
              " 'CCONJ',\n",
              " 'NOUN',\n",
              " 'NOUN',\n",
              " 'ADP',\n",
              " 'DET',\n",
              " 'NOUN',\n",
              " 'NUM']"
            ]
          },
          "metadata": {},
          "execution_count": 18
        }
      ]
    },
    {
      "cell_type": "code",
      "metadata": {
        "colab": {
          "base_uri": "https://localhost:8080/"
        },
        "id": "5Bcbm1Splq9P",
        "outputId": "65a1a952-ea9a-4a85-c51c-501c5365fd31"
      },
      "source": [
        "\"\"\"Extracting Only Adjectives\"\"\"\n",
        "[word for word in sentence if word.pos_ == 'ADJ']"
      ],
      "execution_count": 19,
      "outputs": [
        {
          "output_type": "execute_result",
          "data": {
            "text/plain": [
              "[notable, global]"
            ]
          },
          "metadata": {},
          "execution_count": 19
        }
      ]
    },
    {
      "cell_type": "code",
      "metadata": {
        "colab": {
          "base_uri": "https://localhost:8080/"
        },
        "id": "TH9iNENhmSus",
        "outputId": "6e858825-ba10-4d25-df2a-fbe7a7056359"
      },
      "source": [
        "\"\"\"Extracting Verbs\"\"\"\n",
        "print(\"Verbs in our sentence %s\"%[word for word in sentence if word.pos_ == 'VERB'])\n",
        "\n",
        "\n",
        "\"\"\"Extracting Lemmatized version of Verbs\"\"\"\n",
        "print(\"Lemmatized Version of these Verbs %s\" %[word.lemma_ for word in sentence if word.pos_ == 'VERB'])"
      ],
      "execution_count": 23,
      "outputs": [
        {
          "output_type": "stream",
          "name": "stdout",
          "text": [
            "Verbs in our sentence [documents, related]\n",
            "Lemmatized Version of these Verbs ['document', 'relate']\n"
          ]
        }
      ]
    },
    {
      "cell_type": "code",
      "metadata": {
        "colab": {
          "base_uri": "https://localhost:8080/",
          "height": 36
        },
        "id": "q6p1JLpamuyn",
        "outputId": "4649b922-181c-419d-be02-2e1165a1a9a9"
      },
      "source": [
        "\"\"\"Taking care of 's \"\"\"\n",
        "def text_cleaner(sentence):\n",
        "  cleaned_sentence = sentence.replace(\"'s\", \"\")\n",
        "  return cleaned_sentence\n",
        "\n",
        "text_cleaner('conserve Canada\\'s renewable resources; conserve and protect Canada\\'s water resources')  "
      ],
      "execution_count": 28,
      "outputs": [
        {
          "output_type": "execute_result",
          "data": {
            "application/vnd.google.colaboratory.intrinsic+json": {
              "type": "string"
            },
            "text/plain": [
              "'conserve Canada renewable resources; conserve and protect Canada water resources'"
            ]
          },
          "metadata": {},
          "execution_count": 28
        }
      ]
    },
    {
      "cell_type": "code",
      "metadata": {
        "id": "z7KKGd3Ku2PQ"
      },
      "source": [
        "\"\"\"Importing Stopwords from spacy library\"\"\"\n",
        "from spacy.lang.en.stop_words import STOP_WORDS as Stopwords\n",
        "import string\n",
        "punctuations = string.punctuation"
      ],
      "execution_count": 26,
      "outputs": []
    },
    {
      "cell_type": "code",
      "metadata": {
        "id": "o7zfjO2yvGwe"
      },
      "source": [
        ""
      ],
      "execution_count": null,
      "outputs": []
    }
  ]
}