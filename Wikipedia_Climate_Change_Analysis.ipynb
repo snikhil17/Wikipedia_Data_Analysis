{
  "nbformat": 4,
  "nbformat_minor": 0,
  "metadata": {
    "kernelspec": {
      "display_name": "Python 3",
      "language": "python",
      "name": "python3"
    },
    "language_info": {
      "codemirror_mode": {
        "name": "ipython",
        "version": 3
      },
      "file_extension": ".py",
      "mimetype": "text/x-python",
      "name": "python",
      "nbconvert_exporter": "python",
      "pygments_lexer": "ipython3",
      "version": "3.5.4"
    },
    "colab": {
      "name": "Basics of Spacy and Wikipedia on climate change.ipynb",
      "provenance": []
    }
  },
  "cells": [
    {
      "cell_type": "code",
      "metadata": {
        "collapsed": true,
        "id": "V4pUgpYeWwhH"
      },
      "source": [
        "!pip install py2neo\n",
        "!pip install wikipedia\n",
        "!pip install spacy==3.0.3"
      ],
      "execution_count": null,
      "outputs": []
    },
    {
      "cell_type": "code",
      "metadata": {
        "id": "YvubWCWJaL7D"
      },
      "source": [
        "import wikipedia as wk"
      ],
      "execution_count": 1,
      "outputs": []
    },
    {
      "cell_type": "code",
      "metadata": {
        "colab": {
          "base_uri": "https://localhost:8080/"
        },
        "id": "uyAyA7jzaW7L",
        "outputId": "1e4fb682-d7df-405b-a54b-642064eceb6e"
      },
      "source": [
        "wk.search(\"climate change\")"
      ],
      "execution_count": 2,
      "outputs": [
        {
          "output_type": "execute_result",
          "data": {
            "text/plain": [
              "['Climate change',\n",
              " 'Climate change denial',\n",
              " 'United Nations Framework Convention on Climate Change',\n",
              " 'Effects of climate change',\n",
              " 'Intergovernmental Panel on Climate Change',\n",
              " 'Climate change mitigation',\n",
              " 'Climate variability and change',\n",
              " 'Climate change and agriculture',\n",
              " '2021 in climate change',\n",
              " 'Paris Agreement']"
            ]
          },
          "metadata": {},
          "execution_count": 2
        }
      ]
    },
    {
      "cell_type": "code",
      "metadata": {
        "id": "F_fkLEIBanqT"
      },
      "source": [
        "wk.page('Climate change').summary"
      ],
      "execution_count": null,
      "outputs": []
    },
    {
      "cell_type": "code",
      "metadata": {
        "id": "TB-Ob_v8a8fC"
      },
      "source": [
        "!pip install Wikipedia-API"
      ],
      "execution_count": null,
      "outputs": []
    },
    {
      "cell_type": "code",
      "metadata": {
        "id": "YkufBY5JbKzo"
      },
      "source": [
        "import wikipediaapi as wkapi"
      ],
      "execution_count": 4,
      "outputs": []
    },
    {
      "cell_type": "code",
      "metadata": {
        "id": "65ikOXiPbO8v"
      },
      "source": [
        "wiki_climate = wkapi.Wikipedia(\n",
        "        language='en',\n",
        "        extract_format=wkapi.ExtractFormat.WIKI\n",
        ")"
      ],
      "execution_count": 5,
      "outputs": []
    },
    {
      "cell_type": "code",
      "metadata": {
        "id": "NmJ6s1HfbeJT"
      },
      "source": [
        "# wiki_climate.page('Climate change').text"
      ],
      "execution_count": null,
      "outputs": []
    },
    {
      "cell_type": "code",
      "metadata": {
        "id": "95aVLIKWczXY"
      },
      "source": [
        "my_file = {}\n",
        "for items in wk.search('climate change', results = 500):\n",
        "  my_file[items]=wiki_climate.page(items).summary"
      ],
      "execution_count": 33,
      "outputs": []
    },
    {
      "cell_type": "code",
      "metadata": {
        "id": "EP3THoymdn_a"
      },
      "source": [
        "import json"
      ],
      "execution_count": 6,
      "outputs": []
    },
    {
      "cell_type": "code",
      "metadata": {
        "id": "PyDnkT9SOBlK"
      },
      "source": [
        "with open(\"sample.json\", \"w\") as fp:\n",
        "    json.dump(my_file, fp) "
      ],
      "execution_count": 42,
      "outputs": []
    },
    {
      "cell_type": "code",
      "metadata": {
        "id": "LMUedceUgd0r"
      },
      "source": [
        "\"\"\"Opening the json file\"\"\"\n",
        "with open('/content/sample.json') as d:\n",
        "    my_file = json.load(d)\n",
        "# print(my_file)"
      ],
      "execution_count": 121,
      "outputs": []
    },
    {
      "cell_type": "markdown",
      "metadata": {
        "id": "IXuHGh0khq1q"
      },
      "source": [
        "# **Spacy Library**"
      ]
    },
    {
      "cell_type": "code",
      "metadata": {
        "collapsed": true,
        "colab": {
          "base_uri": "https://localhost:8080/"
        },
        "id": "x4W6I0L-hGoD",
        "outputId": "7d3a9d05-d190-4228-c909-3cb46c79ac75"
      },
      "source": [
        "\"\"\"Spacy Library\"\"\"\n",
        "import spacy\n",
        "# !python -m spacy download en_core_web_md\n",
        "# !python -m spacy download en\n",
        "nlp = spacy.load('en_core_web_md')\n",
        "nlp.add_pipe('merge_noun_chunks')\n",
        "nlp.pipe_names"
      ],
      "execution_count": 127,
      "outputs": [
        {
          "output_type": "execute_result",
          "data": {
            "text/plain": [
              "['tok2vec',\n",
              " 'tagger',\n",
              " 'parser',\n",
              " 'ner',\n",
              " 'attribute_ruler',\n",
              " 'lemmatizer',\n",
              " 'merge_noun_chunks']"
            ]
          },
          "metadata": {},
          "execution_count": 127
        }
      ]
    },
    {
      "cell_type": "code",
      "metadata": {
        "id": "M9W4mA_2hyCp"
      },
      "source": [
        "\"\"\"Trying Spacy functions on one sentence\"\"\"\n",
        "sentence = nlp(\"'This article documents notable events, research findings, effects, and responses related to global warming and climate change during the year 2021\")"
      ],
      "execution_count": 101,
      "outputs": []
    },
    {
      "cell_type": "code",
      "metadata": {
        "colab": {
          "base_uri": "https://localhost:8080/"
        },
        "id": "tErfdLR9lNvN",
        "outputId": "56d36d6f-7af7-49ab-babd-4e1417f5c23a"
      },
      "source": [
        "\"\"\"Lemmatization\"\"\"\n",
        "[word.lemma_ for word in sentence]"
      ],
      "execution_count": 47,
      "outputs": [
        {
          "output_type": "execute_result",
          "data": {
            "text/plain": [
              "[\"'\",\n",
              " 'this article',\n",
              " 'document',\n",
              " 'notable event',\n",
              " ',',\n",
              " 'research finding',\n",
              " ',',\n",
              " 'effect',\n",
              " ',',\n",
              " 'and',\n",
              " 'response',\n",
              " 'relate',\n",
              " 'to',\n",
              " 'global warming',\n",
              " 'and',\n",
              " 'climate change',\n",
              " 'during',\n",
              " 'the year',\n",
              " '2021']"
            ]
          },
          "metadata": {},
          "execution_count": 47
        }
      ]
    },
    {
      "cell_type": "code",
      "metadata": {
        "colab": {
          "base_uri": "https://localhost:8080/"
        },
        "id": "A89f0hLslf51",
        "outputId": "cd8dee97-1c73-42fd-f631-594b78101c83"
      },
      "source": [
        "\"\"\"Part of Speech (pos)\n",
        "Bae the words as Noun, Pronouns, verbs adj etc.\"\"\"\n",
        "[word.pos_ for word in sentence]"
      ],
      "execution_count": 48,
      "outputs": [
        {
          "output_type": "execute_result",
          "data": {
            "text/plain": [
              "['PUNCT',\n",
              " 'NOUN',\n",
              " 'VERB',\n",
              " 'NOUN',\n",
              " 'PUNCT',\n",
              " 'NOUN',\n",
              " 'PUNCT',\n",
              " 'NOUN',\n",
              " 'PUNCT',\n",
              " 'CCONJ',\n",
              " 'NOUN',\n",
              " 'VERB',\n",
              " 'ADP',\n",
              " 'NOUN',\n",
              " 'CCONJ',\n",
              " 'NOUN',\n",
              " 'ADP',\n",
              " 'NOUN',\n",
              " 'NUM']"
            ]
          },
          "metadata": {},
          "execution_count": 48
        }
      ]
    },
    {
      "cell_type": "code",
      "metadata": {
        "colab": {
          "base_uri": "https://localhost:8080/"
        },
        "id": "5Bcbm1Splq9P",
        "outputId": "451c37c0-08f6-4992-927b-3b97bac2a659"
      },
      "source": [
        "\"\"\"Extracting Only Adjectives\"\"\"\n",
        "[word for word in sentence if word.pos_ == 'VERB']"
      ],
      "execution_count": 49,
      "outputs": [
        {
          "output_type": "execute_result",
          "data": {
            "text/plain": [
              "[documents, related]"
            ]
          },
          "metadata": {},
          "execution_count": 49
        }
      ]
    },
    {
      "cell_type": "code",
      "metadata": {
        "colab": {
          "base_uri": "https://localhost:8080/"
        },
        "id": "TH9iNENhmSus",
        "outputId": "e9b7c238-9ea8-47cf-d832-a3bfe1a5db30"
      },
      "source": [
        "\"\"\"Extracting Verbs\"\"\"\n",
        "print(\"Verbs in our sentence %s\"%[word for word in sentence if word.pos_ == 'VERB'])\n",
        "\n",
        "\n",
        "\"\"\"Extracting Lemmatized version of Verbs\"\"\"\n",
        "print(\"Lemmatized Version of these Verbs %s\" %[word.lemma_ for word in sentence if word.pos_ == 'VERB'])"
      ],
      "execution_count": 19,
      "outputs": [
        {
          "output_type": "stream",
          "name": "stdout",
          "text": [
            "Verbs in our sentence [documents, related]\n",
            "Lemmatized Version of these Verbs ['document', 'relate']\n"
          ]
        }
      ]
    },
    {
      "cell_type": "code",
      "metadata": {
        "colab": {
          "base_uri": "https://localhost:8080/",
          "height": 36
        },
        "id": "q6p1JLpamuyn",
        "outputId": "e402d41e-2812-48cf-82cf-f39259f670e7"
      },
      "source": [
        "\"\"\"Taking care of 's \"\"\"\n",
        "def text_cleaner(sentence):\n",
        "  cleaned_sentence = sentence.replace(\"'s\", \"\")\n",
        "  return cleaned_sentence\n",
        "\n",
        "text_cleaner('conserve Canada\\'s renewable resources; conserve and protect Canada\\'s water resources')  "
      ],
      "execution_count": 21,
      "outputs": [
        {
          "output_type": "execute_result",
          "data": {
            "application/vnd.google.colaboratory.intrinsic+json": {
              "type": "string"
            },
            "text/plain": [
              "'conserve Canada renewable resources; conserve and protect Canada water resources'"
            ]
          },
          "metadata": {},
          "execution_count": 21
        }
      ]
    },
    {
      "cell_type": "code",
      "metadata": {
        "id": "z7KKGd3Ku2PQ"
      },
      "source": [
        "\"\"\"Importing Stopwords from spacy library\"\"\"\n",
        "from spacy.lang.en.stop_words import STOP_WORDS as stopwords\n",
        "import string\n",
        "punctuations = string.punctuation"
      ],
      "execution_count": 22,
      "outputs": []
    },
    {
      "cell_type": "code",
      "metadata": {
        "id": "o7zfjO2yvGwe"
      },
      "source": [
        "\"\"\"Tokenizer\"\"\"\n",
        "def tokenizer(text):\n",
        "  words = nlp(text)\n",
        "  words = [word.lemma_.lower().strip() if word.lemma_ != \"-PRON-\" else word.lower_ for word in words]\n",
        "  words = [word for word in words if (word not in stopwords and word not in punctuations)]\n",
        "  return words"
      ],
      "execution_count": 23,
      "outputs": []
    },
    {
      "cell_type": "code",
      "metadata": {
        "colab": {
          "base_uri": "https://localhost:8080/"
        },
        "id": "On425rP4yoUF",
        "outputId": "ab4272c9-f906-4fda-e9cc-43038a62632c"
      },
      "source": [
        "tokenizer(text_cleaner('conserve Canada\\'s renewable resources; conserve and protect Canada\\'s water resources')  )"
      ],
      "execution_count": 24,
      "outputs": [
        {
          "output_type": "execute_result",
          "data": {
            "text/plain": [
              "['conserve',\n",
              " 'canada renewable resource',\n",
              " 'conserve',\n",
              " 'protect',\n",
              " 'canada water resource']"
            ]
          },
          "metadata": {},
          "execution_count": 24
        }
      ]
    },
    {
      "cell_type": "code",
      "metadata": {
        "id": "hYscOSmpy0BX"
      },
      "source": [
        "\"\"\"Applying cleaning Function on the data we collected\"\"\"\n",
        "cleaned_text = \" \".join([text_cleaner(text) for text in my_file.values()])"
      ],
      "execution_count": 50,
      "outputs": []
    },
    {
      "cell_type": "code",
      "metadata": {
        "id": "CSVOEzNfzl1p"
      },
      "source": [
        "\"\"\"Tokenizing the cleaned data\"\"\"\n",
        "tokenized_text = tokenizer(cleaned_text)"
      ],
      "execution_count": 51,
      "outputs": []
    },
    {
      "cell_type": "code",
      "metadata": {
        "id": "9HEs0dTZ3D0b"
      },
      "source": [
        "\"\"\"Combining Everything\"\"\"\n",
        "def file_clean_tokenize(file_dict):\n",
        "  cleaned_text = \" \".join([text_cleaner(text) for text in my_file.values()])\n",
        "  tokenized_text = tokenizer(cleaned_text)\n",
        "  return tokenized_text"
      ],
      "execution_count": 52,
      "outputs": []
    },
    {
      "cell_type": "code",
      "metadata": {
        "id": "ZJMN0Sck3o4t"
      },
      "source": [
        "def word_map(file_dict):\n",
        "  word_map = {}\n",
        "  word_list = file_clean_tokenize(file_dict)\n",
        "\n",
        "  for a_word in word_list:\n",
        "    word_map[a_word] = word_map.get(a_word, 0) + 1\n",
        "    word_map_sorted = {k: v for k,v in sorted(word_map.items(), key = lambda item : item[1], reverse = True)}\n",
        "\n",
        "  return word_map_sorted\n",
        "\n",
        "sorted_word_map = word_map(my_file) "
      ],
      "execution_count": 53,
      "outputs": []
    },
    {
      "cell_type": "code",
      "metadata": {
        "id": "1H5Xz-zf5Tah"
      },
      "source": [
        "npl_string = nlp(\" \".join(tokenized_text))\n",
        "\n",
        "# SUBJECTS = [word for word in sentence if word.pos_ == 'ADJ']\n",
        "# tokenized_text"
      ],
      "execution_count": 54,
      "outputs": []
    },
    {
      "cell_type": "code",
      "metadata": {
        "colab": {
          "base_uri": "https://localhost:8080/"
        },
        "id": "FpjY60AsCAJM",
        "outputId": "8cb9f074-227d-4543-b863-8dbd97f3835f"
      },
      "source": [
        "# [word.dep_ for word in nlp(\" \".join(tokenized_text))]\n",
        "npl_string[0:4]"
      ],
      "execution_count": 92,
      "outputs": [
        {
          "output_type": "execute_result",
          "data": {
            "text/plain": [
              "climate change include both global warming drive human-induce emission greenhouse gas the result large-scale shift weather pattern"
            ]
          },
          "metadata": {},
          "execution_count": 92
        }
      ]
    },
    {
      "cell_type": "code",
      "metadata": {
        "colab": {
          "base_uri": "https://localhost:8080/",
          "height": 333
        },
        "id": "10oXXMLMCQ86",
        "outputId": "cc068d93-6b69-47a9-82aa-dadcc7aa93c4"
      },
      "source": [
        "from spacy import displacy\n",
        "displacy.render(npl_string[3:6],style = 'dep', jupyter = True)"
      ],
      "execution_count": 97,
      "outputs": [
        {
          "output_type": "display_data",
          "data": {
            "text/html": [
              "<span class=\"tex2jax_ignore\"><svg xmlns=\"http://www.w3.org/2000/svg\" xmlns:xlink=\"http://www.w3.org/1999/xlink\" xml:lang=\"en\" id=\"7e71b83c4a85477fae4c82720bb5364c-0\" class=\"displacy\" width=\"575\" height=\"312.0\" direction=\"ltr\" style=\"max-width: none; height: 312.0px; color: #000000; background: #ffffff; font-family: Arial; direction: ltr\">\n",
              "<text class=\"displacy-token\" fill=\"currentColor\" text-anchor=\"middle\" y=\"222.0\">\n",
              "    <tspan class=\"displacy-word\" fill=\"currentColor\" x=\"50\">the result large-scale shift weather pattern</tspan>\n",
              "    <tspan class=\"displacy-tag\" dy=\"2em\" fill=\"currentColor\" x=\"50\">NOUN</tspan>\n",
              "</text>\n",
              "\n",
              "<text class=\"displacy-token\" fill=\"currentColor\" text-anchor=\"middle\" y=\"222.0\">\n",
              "    <tspan class=\"displacy-word\" fill=\"currentColor\" x=\"225\">previous period</tspan>\n",
              "    <tspan class=\"displacy-tag\" dy=\"2em\" fill=\"currentColor\" x=\"225\">NOUN</tspan>\n",
              "</text>\n",
              "\n",
              "<text class=\"displacy-token\" fill=\"currentColor\" text-anchor=\"middle\" y=\"222.0\">\n",
              "    <tspan class=\"displacy-word\" fill=\"currentColor\" x=\"400\">climatic change</tspan>\n",
              "    <tspan class=\"displacy-tag\" dy=\"2em\" fill=\"currentColor\" x=\"400\">NOUN</tspan>\n",
              "</text>\n",
              "\n",
              "<g class=\"displacy-arrow\">\n",
              "    <path class=\"displacy-arc\" id=\"arrow-7e71b83c4a85477fae4c82720bb5364c-0-0\" stroke-width=\"2px\" d=\"M70,177.0 C70,89.5 220.0,89.5 220.0,177.0\" fill=\"none\" stroke=\"currentColor\"/>\n",
              "    <text dy=\"1.25em\" style=\"font-size: 0.8em; letter-spacing: 1px\">\n",
              "        <textPath xlink:href=\"#arrow-7e71b83c4a85477fae4c82720bb5364c-0-0\" class=\"displacy-label\" startOffset=\"50%\" side=\"left\" fill=\"currentColor\" text-anchor=\"middle\">appos</textPath>\n",
              "    </text>\n",
              "    <path class=\"displacy-arrowhead\" d=\"M220.0,179.0 L228.0,167.0 212.0,167.0\" fill=\"currentColor\"/>\n",
              "</g>\n",
              "\n",
              "<g class=\"displacy-arrow\">\n",
              "    <path class=\"displacy-arc\" id=\"arrow-7e71b83c4a85477fae4c82720bb5364c-0-1\" stroke-width=\"2px\" d=\"M70,177.0 C70,2.0 400.0,2.0 400.0,177.0\" fill=\"none\" stroke=\"currentColor\"/>\n",
              "    <text dy=\"1.25em\" style=\"font-size: 0.8em; letter-spacing: 1px\">\n",
              "        <textPath xlink:href=\"#arrow-7e71b83c4a85477fae4c82720bb5364c-0-1\" class=\"displacy-label\" startOffset=\"50%\" side=\"left\" fill=\"currentColor\" text-anchor=\"middle\">appos</textPath>\n",
              "    </text>\n",
              "    <path class=\"displacy-arrowhead\" d=\"M400.0,179.0 L408.0,167.0 392.0,167.0\" fill=\"currentColor\"/>\n",
              "</g>\n",
              "</svg></span>"
            ],
            "text/plain": [
              "<IPython.core.display.HTML object>"
            ]
          },
          "metadata": {}
        }
      ]
    },
    {
      "cell_type": "code",
      "metadata": {
        "colab": {
          "base_uri": "https://localhost:8080/"
        },
        "id": "yDohOeKfiA1V",
        "outputId": "fd7f4719-9d74-439c-92bc-f273bfaae8c7"
      },
      "source": [
        "print(spacy.explain('appos'))"
      ],
      "execution_count": 100,
      "outputs": [
        {
          "output_type": "stream",
          "name": "stdout",
          "text": [
            "appositional modifier\n",
            "None\n"
          ]
        }
      ]
    },
    {
      "cell_type": "code",
      "metadata": {
        "id": "-rZoSrMIbO90"
      },
      "source": [
        "from spacy import displacy\n",
        "displacy.render(npl_string[0:200],style = 'ent', jupyter = True)"
      ],
      "execution_count": null,
      "outputs": []
    },
    {
      "cell_type": "code",
      "metadata": {
        "colab": {
          "base_uri": "https://localhost:8080/",
          "height": 308
        },
        "id": "D66G-ZEqd3ey",
        "outputId": "889d2580-1671-48dd-9a55-278dd55ca48d"
      },
      "source": [
        "options = {'compact': True, \"bg\": 'cornflowerblue', 'color': '#fff',\n",
        "           'font':'Sans Serif'}\n",
        "displacy.render(npl_string[0:6],style = 'dep', jupyter = True, options = options)           "
      ],
      "execution_count": 114,
      "outputs": [
        {
          "output_type": "display_data",
          "data": {
            "text/html": [
              "<span class=\"tex2jax_ignore\"><svg xmlns=\"http://www.w3.org/2000/svg\" xmlns:xlink=\"http://www.w3.org/1999/xlink\" xml:lang=\"en\" id=\"f087de9d982e44b09f042e7c1e7cde49-0\" class=\"displacy\" width=\"950\" height=\"287.0\" direction=\"ltr\" style=\"max-width: none; height: 287.0px; color: #fff; background: cornflowerblue; font-family: Sans Serif; direction: ltr\">\n",
              "<text class=\"displacy-token\" fill=\"currentColor\" text-anchor=\"middle\" y=\"197.0\">\n",
              "    <tspan class=\"displacy-word\" fill=\"currentColor\" x=\"50\">climate change</tspan>\n",
              "    <tspan class=\"displacy-tag\" dy=\"2em\" fill=\"currentColor\" x=\"50\">NOUN</tspan>\n",
              "</text>\n",
              "\n",
              "<text class=\"displacy-token\" fill=\"currentColor\" text-anchor=\"middle\" y=\"197.0\">\n",
              "    <tspan class=\"displacy-word\" fill=\"currentColor\" x=\"200\">include</tspan>\n",
              "    <tspan class=\"displacy-tag\" dy=\"2em\" fill=\"currentColor\" x=\"200\">VERB</tspan>\n",
              "</text>\n",
              "\n",
              "<text class=\"displacy-token\" fill=\"currentColor\" text-anchor=\"middle\" y=\"197.0\">\n",
              "    <tspan class=\"displacy-word\" fill=\"currentColor\" x=\"350\">both global warming drive human-induce emission greenhouse gas</tspan>\n",
              "    <tspan class=\"displacy-tag\" dy=\"2em\" fill=\"currentColor\" x=\"350\">NOUN</tspan>\n",
              "</text>\n",
              "\n",
              "<text class=\"displacy-token\" fill=\"currentColor\" text-anchor=\"middle\" y=\"197.0\">\n",
              "    <tspan class=\"displacy-word\" fill=\"currentColor\" x=\"500\">the result large-scale shift weather pattern</tspan>\n",
              "    <tspan class=\"displacy-tag\" dy=\"2em\" fill=\"currentColor\" x=\"500\">NOUN</tspan>\n",
              "</text>\n",
              "\n",
              "<text class=\"displacy-token\" fill=\"currentColor\" text-anchor=\"middle\" y=\"197.0\">\n",
              "    <tspan class=\"displacy-word\" fill=\"currentColor\" x=\"650\">previous period</tspan>\n",
              "    <tspan class=\"displacy-tag\" dy=\"2em\" fill=\"currentColor\" x=\"650\">NOUN</tspan>\n",
              "</text>\n",
              "\n",
              "<text class=\"displacy-token\" fill=\"currentColor\" text-anchor=\"middle\" y=\"197.0\">\n",
              "    <tspan class=\"displacy-word\" fill=\"currentColor\" x=\"800\">climatic change</tspan>\n",
              "    <tspan class=\"displacy-tag\" dy=\"2em\" fill=\"currentColor\" x=\"800\">NOUN</tspan>\n",
              "</text>\n",
              "\n",
              "<g class=\"displacy-arrow\">\n",
              "    <path class=\"displacy-arc\" id=\"arrow-f087de9d982e44b09f042e7c1e7cde49-0-0\" stroke-width=\"2px\" d=\"M62,152.0 62,127.0 197.0,127.0 197.0,152.0\" fill=\"none\" stroke=\"currentColor\"/>\n",
              "    <text dy=\"1.25em\" style=\"font-size: 0.8em; letter-spacing: 1px\">\n",
              "        <textPath xlink:href=\"#arrow-f087de9d982e44b09f042e7c1e7cde49-0-0\" class=\"displacy-label\" startOffset=\"50%\" side=\"left\" fill=\"currentColor\" text-anchor=\"middle\">nsubj</textPath>\n",
              "    </text>\n",
              "    <path class=\"displacy-arrowhead\" d=\"M62,154.0 L58,146.0 66,146.0\" fill=\"currentColor\"/>\n",
              "</g>\n",
              "\n",
              "<g class=\"displacy-arrow\">\n",
              "    <path class=\"displacy-arc\" id=\"arrow-f087de9d982e44b09f042e7c1e7cde49-0-1\" stroke-width=\"2px\" d=\"M212,152.0 212,127.0 347.0,127.0 347.0,152.0\" fill=\"none\" stroke=\"currentColor\"/>\n",
              "    <text dy=\"1.25em\" style=\"font-size: 0.8em; letter-spacing: 1px\">\n",
              "        <textPath xlink:href=\"#arrow-f087de9d982e44b09f042e7c1e7cde49-0-1\" class=\"displacy-label\" startOffset=\"50%\" side=\"left\" fill=\"currentColor\" text-anchor=\"middle\">dobj</textPath>\n",
              "    </text>\n",
              "    <path class=\"displacy-arrowhead\" d=\"M347.0,154.0 L351.0,146.0 343.0,146.0\" fill=\"currentColor\"/>\n",
              "</g>\n",
              "\n",
              "<g class=\"displacy-arrow\">\n",
              "    <path class=\"displacy-arc\" id=\"arrow-f087de9d982e44b09f042e7c1e7cde49-0-2\" stroke-width=\"2px\" d=\"M212,152.0 212,102.0 500.0,102.0 500.0,152.0\" fill=\"none\" stroke=\"currentColor\"/>\n",
              "    <text dy=\"1.25em\" style=\"font-size: 0.8em; letter-spacing: 1px\">\n",
              "        <textPath xlink:href=\"#arrow-f087de9d982e44b09f042e7c1e7cde49-0-2\" class=\"displacy-label\" startOffset=\"50%\" side=\"left\" fill=\"currentColor\" text-anchor=\"middle\">dobj</textPath>\n",
              "    </text>\n",
              "    <path class=\"displacy-arrowhead\" d=\"M500.0,154.0 L504.0,146.0 496.0,146.0\" fill=\"currentColor\"/>\n",
              "</g>\n",
              "\n",
              "<g class=\"displacy-arrow\">\n",
              "    <path class=\"displacy-arc\" id=\"arrow-f087de9d982e44b09f042e7c1e7cde49-0-3\" stroke-width=\"2px\" d=\"M512,152.0 512,127.0 647.0,127.0 647.0,152.0\" fill=\"none\" stroke=\"currentColor\"/>\n",
              "    <text dy=\"1.25em\" style=\"font-size: 0.8em; letter-spacing: 1px\">\n",
              "        <textPath xlink:href=\"#arrow-f087de9d982e44b09f042e7c1e7cde49-0-3\" class=\"displacy-label\" startOffset=\"50%\" side=\"left\" fill=\"currentColor\" text-anchor=\"middle\">appos</textPath>\n",
              "    </text>\n",
              "    <path class=\"displacy-arrowhead\" d=\"M647.0,154.0 L651.0,146.0 643.0,146.0\" fill=\"currentColor\"/>\n",
              "</g>\n",
              "\n",
              "<g class=\"displacy-arrow\">\n",
              "    <path class=\"displacy-arc\" id=\"arrow-f087de9d982e44b09f042e7c1e7cde49-0-4\" stroke-width=\"2px\" d=\"M512,152.0 512,102.0 800.0,102.0 800.0,152.0\" fill=\"none\" stroke=\"currentColor\"/>\n",
              "    <text dy=\"1.25em\" style=\"font-size: 0.8em; letter-spacing: 1px\">\n",
              "        <textPath xlink:href=\"#arrow-f087de9d982e44b09f042e7c1e7cde49-0-4\" class=\"displacy-label\" startOffset=\"50%\" side=\"left\" fill=\"currentColor\" text-anchor=\"middle\">appos</textPath>\n",
              "    </text>\n",
              "    <path class=\"displacy-arrowhead\" d=\"M800.0,154.0 L804.0,146.0 796.0,146.0\" fill=\"currentColor\"/>\n",
              "</g>\n",
              "</svg></span>"
            ],
            "text/plain": [
              "<IPython.core.display.HTML object>"
            ]
          },
          "metadata": {}
        }
      ]
    }
  ]
}
